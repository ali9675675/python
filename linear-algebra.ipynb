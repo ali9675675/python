{
 "cells": [
  {
   "cell_type": "code",
   "execution_count": 1,
   "id": "2c25e3a8-83ec-45bc-b1ec-af8f27a00e38",
   "metadata": {},
   "outputs": [
    {
     "name": "stdout",
     "output_type": "stream",
     "text": [
      "[1 2 3]\n",
      "3.0\n"
     ]
    }
   ],
   "source": [
    "# max norm\n",
    "from math import inf\n",
    "from numpy import array\n",
    "from numpy.linalg import norm\n",
    "\n",
    "a = array([1,2,3])\n",
    "print(a)\n",
    "\n",
    "maxnorm = norm(a, inf)\n",
    "print(maxnorm)"
   ]
  },
  {
   "cell_type": "code",
   "execution_count": 2,
   "id": "95d0e8fe-8914-45ca-b622-7a8245233c90",
   "metadata": {},
   "outputs": [
    {
     "name": "stdout",
     "output_type": "stream",
     "text": [
      "14\n"
     ]
    }
   ],
   "source": [
    "a = array([1,2,3])\n",
    "b = array([1,2,3])\n",
    "c = a.dot(b)\n",
    "print(c)"
   ]
  },
  {
   "cell_type": "code",
   "execution_count": 3,
   "id": "9f58d33a-0a11-49ac-819d-ce61c0fea511",
   "metadata": {},
   "outputs": [
    {
     "name": "stdout",
     "output_type": "stream",
     "text": [
      "[[1 2 3]\n",
      " [1 2 3]\n",
      " [1 2 3]]\n",
      "----------\n",
      "[[1 0 0]\n",
      " [1 2 0]\n",
      " [1 2 3]]\n",
      "----------\n",
      "[[1 2 3]\n",
      " [0 2 3]\n",
      " [0 0 3]]\n"
     ]
    }
   ],
   "source": [
    "# triangular matrix\n",
    "from numpy import tril\n",
    "from numpy import triu\n",
    "\n",
    "m = array([\n",
    "    [1,2,3],\n",
    "    [1,2,3],\n",
    "    [1,2,3]]\n",
    ")\n",
    "print(m)\n",
    "print(\"-\"*10)\n",
    "lower = tril(m)\n",
    "print(lower)\n",
    "print(\"-\"*10)\n",
    "upper = triu(m)\n",
    "print(upper)"
   ]
  },
  {
   "cell_type": "code",
   "execution_count": 4,
   "id": "fb39c28d-e81d-4ad8-8100-3cb9d40b9d0d",
   "metadata": {},
   "outputs": [
    {
     "name": "stdout",
     "output_type": "stream",
     "text": [
      "[1 2 3]\n",
      "[[1 0 0]\n",
      " [0 2 0]\n",
      " [0 0 3]]\n"
     ]
    }
   ],
   "source": [
    "# diagnol matrix\n",
    "from numpy import diag\n",
    "\n",
    "m = array([\n",
    "    [1,2,3],\n",
    "    [1,2,3],\n",
    "    [1,2,3]])\n",
    "d = diag(m)\n",
    "print(d)\n",
    "D = diag(d)\n",
    "print(D)"
   ]
  },
  {
   "cell_type": "code",
   "execution_count": 5,
   "id": "5c1cf72c-b9b6-4aac-a343-c1d4e5da19df",
   "metadata": {},
   "outputs": [
    {
     "name": "stdout",
     "output_type": "stream",
     "text": [
      "[[1. 0. 0.]\n",
      " [0. 1. 0.]\n",
      " [0. 0. 1.]]\n"
     ]
    }
   ],
   "source": [
    "# identity matrix\n",
    "from numpy import identity\n",
    "i = identity(3)\n",
    "print(i)"
   ]
  },
  {
   "cell_type": "code",
   "execution_count": 6,
   "id": "b1668b5b-6f7f-4f1f-9bcd-d22addd62e22",
   "metadata": {},
   "outputs": [
    {
     "name": "stdout",
     "output_type": "stream",
     "text": [
      "[[ 1  0]\n",
      " [ 0 -1]]\n",
      "----------\n",
      "[[ 1.  0.]\n",
      " [-0. -1.]]\n",
      "----------\n",
      "[[ 1  0]\n",
      " [ 0 -1]]\n",
      "----------\n",
      "[[1 0]\n",
      " [0 1]]\n"
     ]
    }
   ],
   "source": [
    "# orthogonal matrix\n",
    "from numpy.linalg import inv\n",
    "\n",
    "q = array([\n",
    "    [1,0],\n",
    "    [0,-1]])\n",
    "print(q)\n",
    "print(\"-\"*10)\n",
    "\n",
    "v = inv(q)\n",
    "print(v)\n",
    "print(\"-\"*10)\n",
    "print(q.T)\n",
    "print(\"-\"*10)\n",
    "\n",
    "I = q.dot(q.T)\n",
    "print(I)"
   ]
  },
  {
   "cell_type": "code",
   "execution_count": 7,
   "id": "c9e3cf7c-617e-44e7-8605-9b747e961306",
   "metadata": {},
   "outputs": [
    {
     "name": "stdout",
     "output_type": "stream",
     "text": [
      "[[1 2 3]\n",
      " [4 5 6]\n",
      " [7 8 9]]\n",
      "----------\n",
      "15\n"
     ]
    }
   ],
   "source": [
    "# matrix trace\n",
    "from numpy import trace\n",
    "\n",
    "t = array([\n",
    "    [1,2,3],\n",
    "    [4,5,6],\n",
    "    [7,8,9]])\n",
    "print(t)\n",
    "print(\"-\"*10)\n",
    "ti = trace(t)\n",
    "print(ti)"
   ]
  },
  {
   "cell_type": "code",
   "execution_count": 8,
   "id": "ae4f78bf-0664-43e1-bc0d-03fc6298287e",
   "metadata": {},
   "outputs": [
    {
     "name": "stdout",
     "output_type": "stream",
     "text": [
      "[[1 2 3]\n",
      " [4 5 6]\n",
      " [7 8 9]]\n",
      "----------\n",
      "0.0\n"
     ]
    }
   ],
   "source": [
    "# matrix determinant\n",
    "from numpy.linalg import det\n",
    "\n",
    "S = array([\n",
    "    [1,2,3],\n",
    "    [4,5,6],\n",
    "    [7,8,9]])\n",
    "print(S)\n",
    "print(\"-\"*10)\n",
    "B = det(S)\n",
    "print(B)\n",
    "\n",
    "# detrminan 0 beshe yani inverse nadaare"
   ]
  },
  {
   "cell_type": "code",
   "execution_count": 9,
   "id": "5f1bfcbd-fe57-4112-8366-eaba39036c7b",
   "metadata": {},
   "outputs": [
    {
     "name": "stdout",
     "output_type": "stream",
     "text": [
      "[1 2 3]\n",
      "----------\n",
      "1\n",
      "----------\n",
      "[0 0 0 0 0]\n",
      "----------\n",
      "0\n"
     ]
    }
   ],
   "source": [
    "# vector rank\n",
    "# rank: takhmini az tedad row va column haee ke mostaghel hastan\n",
    "# rank 0 beshe dareh be noghteh eshareh mikone...age 1 beshe dare be khat eshareh mikone...age 2 beshe be safheh eshareh mikone\n",
    "from numpy.linalg import matrix_rank \n",
    "\n",
    "v1= array([1,2,3])\n",
    "print(v1)\n",
    "print(\"-\"*10)\n",
    "\n",
    "vr1 = matrix_rank(v1)\n",
    "print(vr1)\n",
    "print(\"-\"*10)\n",
    "\n",
    "v2 = array([0,0,0,0,0])\n",
    "print(v2)\n",
    "print(\"-\"*10)\n",
    "vr2=matrix_rank(v2)\n",
    "print(vr2)"
   ]
  },
  {
   "cell_type": "code",
   "execution_count": 10,
   "id": "3a9a9ca0-b271-4306-84d3-9b04664c4f47",
   "metadata": {},
   "outputs": [
    {
     "name": "stdout",
     "output_type": "stream",
     "text": [
      "[[1 0 0 1 0 0]\n",
      " [0 0 2 0 0 1]\n",
      " [0 0 0 2 0 0]]\n",
      "----------\n",
      "<Compressed Sparse Row sparse matrix of dtype 'int64'\n",
      "\twith 5 stored elements and shape (3, 6)>\n",
      "  Coords\tValues\n",
      "  (0, 0)\t1\n",
      "  (0, 3)\t1\n",
      "  (1, 2)\t2\n",
      "  (1, 5)\t1\n",
      "  (2, 3)\t2\n",
      "----------\n",
      "[[1 0 0 1 0 0]\n",
      " [0 0 2 0 0 1]\n",
      " [0 0 0 2 0 0]]\n"
     ]
    }
   ],
   "source": [
    "# sparse matrix\n",
    "from scipy.sparse import csr_matrix\n",
    "\n",
    "s = array([\n",
    "    [1,0,0,1,0,0],\n",
    "    [0,0,2,0,0,1],\n",
    "    [0,0,0,2,0,0]])\n",
    "print(s)\n",
    "print(\"-\"*10)\n",
    "\n",
    "cs = csr_matrix(s)\n",
    "print(cs)\n",
    "print(\"-\"*10)\n",
    "\n",
    "# recostruct dense matrix\n",
    "r = cs.todense()\n",
    "print(r)"
   ]
  },
  {
   "cell_type": "code",
   "execution_count": 11,
   "id": "130966f8-f48a-4910-880d-bf265b3fcdad",
   "metadata": {},
   "outputs": [
    {
     "name": "stdout",
     "output_type": "stream",
     "text": [
      "[[1 0 0 1 0 0]\n",
      " [0 0 2 0 0 1]\n",
      " [0 0 0 2 0 0]]\n",
      "----------\n",
      "0.7222222222222222\n"
     ]
    }
   ],
   "source": [
    "# sparsity calculation\n",
    "from numpy import count_nonzero\n",
    "\n",
    "c = array([\n",
    "    [1,0,0,1,0,0],\n",
    "    [0,0,2,0,0,1],\n",
    "    [0,0,0,2,0,0]])\n",
    "print(c)\n",
    "print(\"-\"*10)\n",
    "\n",
    "sparsity = 1.0 -  count_nonzero(c) / c.size\n",
    "print(sparsity)"
   ]
  },
  {
   "cell_type": "markdown",
   "id": "3d2fa432-9a71-4bfb-b5fa-931b9676ed2f",
   "metadata": {},
   "source": [
    "# matrix decomposition\n",
    "matrix ro be ajzaye sazandeh khodesh taghsim konim"
   ]
  },
  {
   "cell_type": "markdown",
   "id": "bfa288f7-3a71-442b-9ec3-d6f2e182d16c",
   "metadata": {},
   "source": [
    "## LU Decomposition\n",
    "paeen mosalasi va bala mosalasi ro azash estekhraj mikonim"
   ]
  },
  {
   "cell_type": "code",
   "execution_count": 12,
   "id": "36839376-03c7-4b78-be80-d76f6606114c",
   "metadata": {},
   "outputs": [
    {
     "name": "stdout",
     "output_type": "stream",
     "text": [
      "[[1 2 3]\n",
      " [4 5 6]\n",
      " [7 8 9]] \n",
      "\n",
      "P:  [[0. 1. 0.]\n",
      " [0. 0. 1.]\n",
      " [1. 0. 0.]]\n",
      "--------------------------------------------------\n",
      "L:  [[1.         0.         0.        ]\n",
      " [0.14285714 1.         0.        ]\n",
      " [0.57142857 0.5        1.        ]]\n",
      "--------------------------------------------------\n",
      "U:  [[ 7.00000000e+00  8.00000000e+00  9.00000000e+00]\n",
      " [ 0.00000000e+00  8.57142857e-01  1.71428571e+00]\n",
      " [ 0.00000000e+00  0.00000000e+00 -1.58603289e-16]]\n"
     ]
    }
   ],
   "source": [
    "from numpy import array\n",
    "from scipy.linalg import lu\n",
    "\n",
    "A = array([\n",
    "    [1,2,3],\n",
    "    [4,5,6],\n",
    "    [7,8,9]])\n",
    "\n",
    "print(A, \"\\n\")\n",
    "\n",
    "P,L,U = lu(A)\n",
    "print(\"P: \",P)\n",
    "print(\"-\"*50)\n",
    "print(\"L: \",L)\n",
    "print(\"-\"*50)\n",
    "print(\"U: \",U)"
   ]
  },
  {
   "cell_type": "markdown",
   "id": "7ab72cd4-7b74-4b16-bed2-4dd72b656c51",
   "metadata": {},
   "source": [
    "## ًQR Decomposition\n"
   ]
  },
  {
   "cell_type": "code",
   "execution_count": 13,
   "id": "f60c410a-4ec2-4302-b8e9-61c120ab5d7d",
   "metadata": {},
   "outputs": [
    {
     "name": "stdout",
     "output_type": "stream",
     "text": [
      "[[-0.16903085  0.89708523  0.40824829]\n",
      " [-0.50709255  0.27602622 -0.81649658]\n",
      " [-0.84515425 -0.34503278  0.40824829]]\n",
      "----------\n",
      "[[-5.91607978 -7.43735744]\n",
      " [ 0.          0.82807867]\n",
      " [ 0.          0.        ]]\n",
      "----------\n"
     ]
    }
   ],
   "source": [
    "from numpy.linalg import qr\n",
    "\n",
    "A = array([\n",
    "    [1,2],\n",
    "    [3,4],\n",
    "    [5,6]])\n",
    "\n",
    "Q,R = qr(A, \"complete\")\n",
    "print(Q)\n",
    "print(\"-\"*10)\n",
    "print(R)\n",
    "print(\"-\"*10)\n"
   ]
  },
  {
   "cell_type": "code",
   "execution_count": 14,
   "id": "e02d3869-33c3-4c70-8392-7d2295165e1b",
   "metadata": {},
   "outputs": [
    {
     "name": "stdout",
     "output_type": "stream",
     "text": [
      "[[1.41421356 0.         0.        ]\n",
      " [0.70710678 1.22474487 0.        ]\n",
      " [0.70710678 0.40824829 1.15470054]] \n",
      "\n",
      "\n",
      "[[2. 1. 1.]\n",
      " [1. 2. 1.]\n",
      " [1. 1. 2.]]\n"
     ]
    }
   ],
   "source": [
    "# Cholesky Decomposition\n",
    "from numpy.linalg import cholesky\n",
    "\n",
    "A = array([\n",
    "    [2,1,1],\n",
    "    [1,2,1],\n",
    "    [1,1,2]])\n",
    "L = cholesky(A)\n",
    "print(L, \"\\n\\n\")\n",
    "print (L.dot(L.T))"
   ]
  },
  {
   "cell_type": "code",
   "execution_count": 15,
   "id": "650c256a-036f-4e9d-9260-1f8189b82c04",
   "metadata": {},
   "outputs": [
    {
     "name": "stdout",
     "output_type": "stream",
     "text": [
      "[ 1.61168440e+01 -1.11684397e+00 -1.30367773e-15]\n",
      "----------\n",
      "[[-0.23197069 -0.78583024  0.40824829]\n",
      " [-0.52532209 -0.08675134 -0.81649658]\n",
      " [-0.8186735   0.61232756  0.40824829]]\n"
     ]
    }
   ],
   "source": [
    "# Eigendecomposition\n",
    "from numpy.linalg import eig\n",
    "\n",
    "A = array([\n",
    "   [1,2,3],\n",
    "    [4,5,6],\n",
    "    [7,8,9]])\n",
    "\n",
    "values,vectors = eig(A)\n",
    "print(values)\n",
    "print(\"-\"*10)\n",
    "print(vectors)"
   ]
  },
  {
   "cell_type": "code",
   "execution_count": 16,
   "id": "7719c4d1-3e2f-42b6-83e7-3093a23294ed",
   "metadata": {},
   "outputs": [
    {
     "name": "stdout",
     "output_type": "stream",
     "text": [
      "[ -3.73863537  -8.46653421 -13.19443305]\n",
      "[ -3.73863537  -8.46653421 -13.19443305]\n"
     ]
    }
   ],
   "source": [
    "print(A.dot(vectors[:,0]))\n",
    "print(vectors[:,0]*values[0])"
   ]
  },
  {
   "cell_type": "code",
   "execution_count": 17,
   "id": "479c26d9-157c-4dc3-95d6-1cde83564332",
   "metadata": {},
   "outputs": [
    {
     "name": "stdout",
     "output_type": "stream",
     "text": [
      "[[1. 2. 3.]\n",
      " [4. 5. 6.]\n",
      " [7. 8. 9.]]\n"
     ]
    }
   ],
   "source": [
    "from numpy import diag\n",
    "from numpy.linalg import inv\n",
    "\n",
    "Q = vectors\n",
    "Q_inv = inv(Q)\n",
    "D = diag(values)\n",
    "print(Q.dot(D).dot(Q_inv))"
   ]
  },
  {
   "cell_type": "code",
   "execution_count": 18,
   "id": "b3879534-bfe4-4582-9fdd-516697dd6077",
   "metadata": {},
   "outputs": [
    {
     "name": "stdout",
     "output_type": "stream",
     "text": [
      "[[-0.2298477   0.88346102  0.40824829]\n",
      " [-0.52474482  0.24078249 -0.81649658]\n",
      " [-0.81964194 -0.40189603  0.40824829]]\n",
      "----------------------------------------------------------------------------------------------------\n",
      "[9.52551809 0.51430058]\n",
      "----------------------------------------------------------------------------------------------------\n",
      "[[-0.61962948 -0.78489445]\n",
      " [-0.78489445  0.61962948]]\n"
     ]
    }
   ],
   "source": [
    "# Singular Value Decomposition\n",
    "from numpy import array\n",
    "from scipy.linalg import svd\n",
    "\n",
    "A = array([\n",
    "    [1,2],\n",
    "    [3,4],\n",
    "    [5,6]])\n",
    "\n",
    "U,s,V = svd(A)\n",
    "print(U)\n",
    "print(\"-\"*100)\n",
    "print(s)\n",
    "print(\"-\"*100)\n",
    "print(V)"
   ]
  },
  {
   "cell_type": "code",
   "execution_count": 19,
   "id": "dc4c6eb2-a906-4543-bb47-267210622ae2",
   "metadata": {},
   "outputs": [
    {
     "name": "stdout",
     "output_type": "stream",
     "text": [
      "[[0. 0.]\n",
      " [0. 0.]\n",
      " [0. 0.]]\n",
      "[[9.52551809 0.        ]\n",
      " [0.         0.51430058]\n",
      " [0.         0.        ]]\n"
     ]
    },
    {
     "data": {
      "text/plain": [
       "array([[1., 2.],\n",
       "       [3., 4.],\n",
       "       [5., 6.]])"
      ]
     },
     "execution_count": 19,
     "metadata": {},
     "output_type": "execute_result"
    }
   ],
   "source": [
    "from numpy import diag, zeros\n",
    "\n",
    "sigma = zeros((A.shape[0],A.shape[1]))\n",
    "print(sigma)\n",
    "sigma[:A.shape[1], :A.shape[1]] = diag(s)\n",
    "print(sigma)\n",
    "U.dot(sigma).dot(V)"
   ]
  },
  {
   "cell_type": "markdown",
   "id": "4d24aa01-b8ab-4d35-87d7-1223c21f736f",
   "metadata": {},
   "source": [
    "## Expected Value and Mean"
   ]
  },
  {
   "cell_type": "code",
   "execution_count": 20,
   "id": "30afd9ad-bf0a-4ab6-854c-2282229020f8",
   "metadata": {},
   "outputs": [
    {
     "data": {
      "text/plain": [
       "array([3., 4., 5., 6.])"
      ]
     },
     "execution_count": 20,
     "metadata": {},
     "output_type": "execute_result"
    }
   ],
   "source": [
    "# vector mean\n",
    "from numpy import array, mean\n",
    "\n",
    "v = array([\n",
    "    [1,2,3,4],\n",
    "    [5,6,7,8]])\n",
    "\n",
    "mean(v, axis=0)"
   ]
  },
  {
   "cell_type": "markdown",
   "id": "f5ceced6-4934-4f0d-aabf-f9ba57553ea8",
   "metadata": {},
   "source": [
    "## Variance and Standard Deviation"
   ]
  },
  {
   "cell_type": "code",
   "execution_count": 21,
   "id": "a6867361-5fd1-4df3-a06b-c7b2c172d76a",
   "metadata": {},
   "outputs": [
    {
     "data": {
      "text/plain": [
       "np.float64(3.5)"
      ]
     },
     "execution_count": 21,
     "metadata": {},
     "output_type": "execute_result"
    }
   ],
   "source": [
    "from numpy import var\n",
    "v= array([1,2,3,4,5,6])\n",
    "\n",
    "var(v, ddof=1) # ddof = degree of freedom"
   ]
  },
  {
   "cell_type": "code",
   "execution_count": 22,
   "id": "b07b42a4-bbb6-4a23-93c3-dcc7005ac2ba",
   "metadata": {},
   "outputs": [],
   "source": [
    "# matrix variance\n",
    "\n"
   ]
  },
  {
   "cell_type": "code",
   "execution_count": null,
   "id": "89f9d6e0-68e9-4907-9eab-f86d315bf4cd",
   "metadata": {},
   "outputs": [],
   "source": [
    "# matrix standard deviation\n",
    "from numpy import std\n"
   ]
  },
  {
   "cell_type": "code",
   "execution_count": 24,
   "id": "ba4e8a37-f50e-4b43-8866-aae7f25c587e",
   "metadata": {},
   "outputs": [
    {
     "name": "stdout",
     "output_type": "stream",
     "text": [
      "-6.0\n"
     ]
    }
   ],
   "source": [
    "# vector covariance\n",
    "from numpy import array\n",
    "from numpy import cov\n",
    "\n",
    "x = array([1,2,3,4,5,6,7,8])\n",
    "y = array([8,7,6,5,4,3,2,1])\n",
    "sigma = cov(x,y)[0,1]\n",
    "print(sigma)"
   ]
  },
  {
   "cell_type": "code",
   "execution_count": 27,
   "id": "66d474e9-2498-4d34-8ed9-57f4bc64e50d",
   "metadata": {},
   "outputs": [
    {
     "data": {
      "text/plain": [
       "np.float64(1.0)"
      ]
     },
     "execution_count": 27,
     "metadata": {},
     "output_type": "execute_result"
    }
   ],
   "source": [
    "# vector correlation\n",
    "from numpy import corrcoef\n",
    "x = array([1,2,3,4,5,6,7,8])\n",
    "y = array([8,7,6,5,4,3,2,1])\n",
    "corrcoef(x,y)[1,1]"
   ]
  },
  {
   "cell_type": "code",
   "execution_count": 28,
   "id": "94056e45-c979-4ccc-8ed8-c6b9bcee5f50",
   "metadata": {},
   "outputs": [
    {
     "data": {
      "text/plain": [
       "array([[100.  , 123.75,  13.75],\n",
       "       [123.75, 365.8 ,  30.7 ],\n",
       "       [ 13.75,  30.7 ,   2.8 ]])"
      ]
     },
     "execution_count": 28,
     "metadata": {},
     "output_type": "execute_result"
    }
   ],
   "source": [
    "# covariance matrix\n",
    "from numpy import cov\n",
    "\n",
    "x = array([\n",
    "     #age     #loan     #score\n",
    "    [10,     40,     8],\n",
    "    [30,     50,     10],\n",
    "    [20,     15,     7],\n",
    "    [10,     10,     6],\n",
    "    [5,      8,      6]])\n",
    "\n",
    "cov(x.T)"
   ]
  },
  {
   "cell_type": "code",
   "execution_count": null,
   "id": "f63ecb10-b0f9-47a6-be34-6fcaf515ec87",
   "metadata": {},
   "outputs": [],
   "source": []
  },
  {
   "cell_type": "code",
   "execution_count": null,
   "id": "761cab36-a539-49bc-817f-0b6ece518e75",
   "metadata": {},
   "outputs": [],
   "source": []
  },
  {
   "cell_type": "code",
   "execution_count": null,
   "id": "95a7e5fe-26bb-4b92-ac6c-dfcb2909eb29",
   "metadata": {},
   "outputs": [],
   "source": []
  },
  {
   "cell_type": "code",
   "execution_count": null,
   "id": "bb2d71dc-5584-430e-8fe3-167d587094b0",
   "metadata": {},
   "outputs": [],
   "source": []
  },
  {
   "cell_type": "code",
   "execution_count": null,
   "id": "2604ce4a-7149-45bc-8cf5-d903821b5467",
   "metadata": {},
   "outputs": [],
   "source": []
  },
  {
   "cell_type": "code",
   "execution_count": null,
   "id": "f684e900-f048-487a-a8c9-aec4a67a2ce9",
   "metadata": {},
   "outputs": [],
   "source": []
  },
  {
   "cell_type": "code",
   "execution_count": null,
   "id": "83a66c6f-d9fe-44b3-81be-401316d7b1ba",
   "metadata": {},
   "outputs": [],
   "source": []
  },
  {
   "cell_type": "code",
   "execution_count": null,
   "id": "712d56ea-df31-43f4-b9e2-56f7f5c0ec31",
   "metadata": {},
   "outputs": [],
   "source": []
  },
  {
   "cell_type": "code",
   "execution_count": null,
   "id": "b9442216-33ba-48b8-83bd-51804a2af094",
   "metadata": {},
   "outputs": [],
   "source": []
  },
  {
   "cell_type": "code",
   "execution_count": null,
   "id": "a8af7a3e-d3b5-42ca-94f4-05048c636f71",
   "metadata": {},
   "outputs": [],
   "source": []
  }
 ],
 "metadata": {
  "kernelspec": {
   "display_name": "Python 3 (ipykernel)",
   "language": "python",
   "name": "python3"
  },
  "language_info": {
   "codemirror_mode": {
    "name": "ipython",
    "version": 3
   },
   "file_extension": ".py",
   "mimetype": "text/x-python",
   "name": "python",
   "nbconvert_exporter": "python",
   "pygments_lexer": "ipython3",
   "version": "3.12.3"
  }
 },
 "nbformat": 4,
 "nbformat_minor": 5
}
