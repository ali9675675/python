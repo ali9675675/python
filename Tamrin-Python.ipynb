{
 "cells": [
  {
   "cell_type": "markdown",
   "id": "9c31c05c-ea85-4caf-a0a4-b385e5b13b11",
   "metadata": {},
   "source": [
    "## Exercise 1: Mailing Address\n",
    "Create a program that displays your name and complete mailing address formatted in the manner that you would usually see it on the outside of an envelope. Your program does not need to read any input from the user."
   ]
  },
  {
   "cell_type": "code",
   "execution_count": 1,
   "id": "ac49823d-6c93-488d-b0d2-615e717a6515",
   "metadata": {},
   "outputs": [
    {
     "name": "stdout",
     "output_type": "stream",
     "text": [
      "Ali Koulivand\n",
      "Depatment of Engineering\n",
      "University of Tehran\n",
      "Tehran\n",
      "Iran\n"
     ]
    }
   ],
   "source": [
    "print(\"Ali Koulivand\")\n",
    "print(\"Depatment of Engineering\")\n",
    "print(\"University of Tehran\")\n",
    "print(\"Tehran\")\n",
    "print(\"Iran\")"
   ]
  },
  {
   "cell_type": "markdown",
   "id": "21219c98-3127-4cef-ac8c-406cf2240cbd",
   "metadata": {},
   "source": [
    "## Exercise 2: Hello\n",
    "Write a program that asks the user to enter his or her name. The program should respond with a message that says hello to the user, using his or her name."
   ]
  },
  {
   "cell_type": "code",
   "execution_count": 2,
   "id": "8396570f-5433-4284-987f-d82ec69e4b37",
   "metadata": {},
   "outputs": [
    {
     "name": "stdin",
     "output_type": "stream",
     "text": [
      "your name: aa\n"
     ]
    },
    {
     "name": "stdout",
     "output_type": "stream",
     "text": [
      "Hello aa\n"
     ]
    }
   ],
   "source": [
    "from builtins import input\n",
    "user_name = input(\"your name:\")\n",
    "print(\"Hello\", user_name)"
   ]
  },
  {
   "cell_type": "markdown",
   "id": "1e3a027f-fdc0-4cf3-a26e-4afd824cf16b",
   "metadata": {},
   "source": [
    "## Exercise 3:Area of a Room\n",
    "Write a program that asks the user to enter the width and length of a room. Once\n",
    "the values have been read, your program should compute and display the area of the\n",
    "room. The length and the width will be entered as floating point numbers. Include\n",
    "units in your prompt and output message; either feet or meters, depending on which\n",
    "unit you are more comfortable working with."
   ]
  },
  {
   "cell_type": "code",
   "execution_count": 3,
   "id": "40a5c95c-16ab-4038-a0bd-3004789724b3",
   "metadata": {},
   "outputs": [
    {
     "name": "stdin",
     "output_type": "stream",
     "text": [
      "Enter room width (m):  12\n",
      "Enter room length (m):  12\n"
     ]
    },
    {
     "name": "stdout",
     "output_type": "stream",
     "text": [
      "area of the room is:  144.0\n"
     ]
    }
   ],
   "source": [
    "from builtins import input\n",
    "room_width = float(input(\"Enter room width (m): \"))\n",
    "room_length = float(input(\"Enter room length (m): \"))\n",
    "print(\"area of the room is: \", room_width * room_length)"
   ]
  },
  {
   "cell_type": "markdown",
   "id": "96ef6f81-3664-4e4e-8214-80b8df058822",
   "metadata": {},
   "source": [
    "## Exercise 4:Area of a Field\n",
    "Create a program that reads the length and width of a farmer’s field from the user in\n",
    "feet. Display the area of the field in acres.\n",
    "\n",
    "Hint: There are 43,560 square feet in an acre."
   ]
  },
  {
   "cell_type": "code",
   "execution_count": 4,
   "id": "94a6f4cc-dc77-4bf5-9e0b-3e2fa3bb5ee3",
   "metadata": {},
   "outputs": [
    {
     "name": "stdin",
     "output_type": "stream",
     "text": [
      "Enter field width (m):  1111\n",
      "Enter field length (m):  1111\n"
     ]
    },
    {
     "name": "stdout",
     "output_type": "stream",
     "text": [
      "Area of the field in acres is: 28.336111111111112\n"
     ]
    }
   ],
   "source": [
    "from builtins import input\n",
    "field_width = float(input(\"Enter field width (m): \"))\n",
    "field_length = float(input(\"Enter field length (m): \"))\n",
    "field_area = field_length * field_width\n",
    "print(\"Area of the field in acres is:\", field_area / 43560)"
   ]
  },
  {
   "cell_type": "markdown",
   "id": "a472e5b9-2a16-4264-8d3c-aa047ed700b1",
   "metadata": {},
   "source": [
    "## Exercise 5: Bottle Deposits\n",
    "In many jurisdictions a small deposit is added to drink containers to encourage people\n",
    "to recycle them. In one particular jurisdiction, drink containers holding one liter or\n",
    "less have a $0.10 deposit, and  drink containers holding more than one liter have a\n",
    "$0.25 deposit.\n",
    "\n",
    "\n",
    "Write a program that reads the number of containers of each size from the user.\n",
    "Your program should continue by computing and displaying the refund that will be\n",
    "received for returning those containers. Format the output so that it includes a dollar\n",
    "sign and always displays exactly two decimal places."
   ]
  },
  {
   "cell_type": "code",
   "execution_count": 8,
   "id": "ef8c3c57-0f89-4e25-82f3-7a48bcd2c03f",
   "metadata": {},
   "outputs": [
    {
     "name": "stdin",
     "output_type": "stream",
     "text": [
      "how many containers holding less than 1 liter:  6\n",
      "how many containers holding more than 1 liter:  7\n"
     ]
    },
    {
     "name": "stdout",
     "output_type": "stream",
     "text": [
      "Your total refund will be $2.35.\n"
     ]
    }
   ],
   "source": [
    "less_than_one = 0.10\n",
    "more_than_one = 0.25\n",
    "container_less = int(input(\"how many containers holding less than 1 liter: \"))\n",
    "container_more = int(input(\"how many containers holding more than 1 liter: \"))\n",
    "deposit_all = less_than_one*container_less + more_than_one*container_more\n",
    "print(\"Your total refund will be $%.2f.\" % deposit_all)"
   ]
  },
  {
   "cell_type": "markdown",
   "id": "23a337dc-c9b6-4600-9fbd-3683a5aa82dd",
   "metadata": {},
   "source": [
    "## Exercise 6:Tax and Tip\n",
    "The program that you create for this exercise will begin by reading the cost of a meal\n",
    "ordered at a restaurant from the user. Then your program will compute the tax and\n",
    "tip for the meal. Use your local tax rate when computing the amount of tax owing.\n",
    "Compute the tip as 18 percent of the meal amount (without the tax). The output from\n",
    "your program should include the tax amount, the tip amount, and the grand total for\n",
    "the meal including both the tax and the tip. Format the output so that all of the values\n",
    "are displayed using two decimal places."
   ]
  },
  {
   "cell_type": "code",
   "execution_count": 12,
   "id": "00ba44bf-6b49-4c4c-82ef-505ee8c0a31d",
   "metadata": {},
   "outputs": [
    {
     "name": "stdin",
     "output_type": "stream",
     "text": [
      "enter the meal price ($):  37.44523\n"
     ]
    },
    {
     "name": "stdout",
     "output_type": "stream",
     "text": [
      "your tax price from the meal is $3.37.\n",
      "**********\n",
      "your tip price from the meal is $6.74.\n",
      "**********\n",
      "your total price from the meal is $10.11.\n"
     ]
    }
   ],
   "source": [
    "meal_price = float(input(\"enter the meal price ($): \"))\n",
    "tax_rate = 0.09*meal_price\n",
    "tip_price = 0.18*meal_price\n",
    "total_price = tax_rate + tip_price\n",
    "print(\"your tax price from the meal is $%.2f.\" % tax_rate)\n",
    "print(\"*\" * 10)\n",
    "print(\"your tip price from the meal is $%.2f.\" % tip_price)\n",
    "print(\"*\" * 10)\n",
    "print(\"your total price from the meal is $%.2f.\" % total_price)"
   ]
  },
  {
   "cell_type": "markdown",
   "id": "eaee94dd-8cda-4485-b48f-4bea7dd5e9ae",
   "metadata": {},
   "source": [
    "## Exercise 7:Sum of the First n Positive Integers\n",
    "Write a program that reads a positive integer, n, from the user and then displays the\n",
    "sum of all of the integers from 1 to n. The sum of the first n positive integers can be\n",
    "computed using the formula:\n",
    "\n",
    "sum = ((n)*(n+1))/2"
   ]
  },
  {
   "cell_type": "code",
   "execution_count": 21,
   "id": "a26f2118-1aff-4a1b-9031-3cf6460a53e6",
   "metadata": {},
   "outputs": [
    {
     "name": "stdin",
     "output_type": "stream",
     "text": [
      "enter your integer number:  1\n"
     ]
    },
    {
     "name": "stdout",
     "output_type": "stream",
     "text": [
      "The sum of the first 1 positive number is: 1.0\n"
     ]
    }
   ],
   "source": [
    "user_number = int(input(\"enter your integer number: \"))\n",
    "if user_number > 0:\n",
    "    int_sum = user_number*(user_number+1)/2\n",
    "    print(\"The sum of the first\", user_number, \"positive number is:\", int_sum)\n",
    "else:\n",
    "    print(\"Enter positive integer numbers, please\")"
   ]
  },
  {
   "cell_type": "markdown",
   "id": "2bce2cdf-b7fc-4a6c-8c43-7bf2d20cc743",
   "metadata": {},
   "source": [
    "## Exercise 8:Widgets and Gizmos\n",
    "An online retailer sells two products: widgets and gizmos. Each widget weighs 75\n",
    "grams. Each gizmo weighs 112 grams. Write a program that reads the number of\n",
    "widgets and the number of gizmos in an order from the user. Then your program\n",
    "should compute and display the total weight of the order."
   ]
  },
  {
   "cell_type": "code",
   "execution_count": 23,
   "id": "c90ba44a-e9a8-4320-9e32-fbbd17ea9572",
   "metadata": {},
   "outputs": [
    {
     "name": "stdin",
     "output_type": "stream",
     "text": [
      "enter number of widgets: 5\n",
      "enter number of gizmos: 6\n"
     ]
    },
    {
     "name": "stdout",
     "output_type": "stream",
     "text": [
      "The total weight is 1047 grams\n"
     ]
    }
   ],
   "source": [
    "wid = int(input(\"enter number of widgets:\"))\n",
    "giz = int(input(\"enter number of gizmos:\"))\n",
    "total_weight = wid*75 + giz*112\n",
    "print(f\"The total weight is {total_weight} grams\")"
   ]
  },
  {
   "cell_type": "markdown",
   "id": "c405f41a-8d02-452c-930e-031f86faa626",
   "metadata": {},
   "source": [
    "## Exercise 9: Compound Interest\n",
    "Pretend that you have just opened a new savings account that earns 4 percent interest\n",
    "per year. The interest that you earn is paid at the end of the year, and is added\n",
    "to the balance of the savings account. Write a program that begins by reading the\n",
    "amount of money deposited into the account from the user. Then your program should\n",
    "compute and display the amount in the savings account after 1, 2, and 3 years. Display\n",
    "each amount so that it is rounded to 2 decimal places."
   ]
  },
  {
   "cell_type": "code",
   "execution_count": 30,
   "id": "11542049-427a-42fd-8535-c326ac274a9c",
   "metadata": {},
   "outputs": [
    {
     "name": "stdin",
     "output_type": "stream",
     "text": [
      "enter the amount of money deposited into the account: 554\n"
     ]
    },
    {
     "name": "stdout",
     "output_type": "stream",
     "text": [
      "The account savings in first year is $22.16.\n",
      "The account savings in second year is $44.32.\n",
      "The account savings in third year is $66.48.\n"
     ]
    }
   ],
   "source": [
    "interest_per_year = 0.04\n",
    "account_money = float(input(\"enter the amount of money deposited into the account:\"))\n",
    "first_year = 0.04*account_money\n",
    "second_year = first_year + 0.04 * account_money\n",
    "third_year = second_year+0.04*account_money\n",
    "print(\"The account savings in first year is $%.2f.\" %first_year)\n",
    "print(\"The account savings in second year is $%.2f.\" %second_year)\n",
    "print(\"The account savings in third year is $%.2f.\" %third_year)"
   ]
  },
  {
   "cell_type": "markdown",
   "id": "f6e890a1-61af-4651-bf64-82fef1c775c7",
   "metadata": {},
   "source": [
    "## Exercise 10:Arithmetic\n",
    "Create a program that reads two integers, a and b, from the user.Your program should\n",
    "compute and display:\n",
    "\n",
    "1-The sum of a and b\n",
    "\n",
    "2-The difference when b is subtracted from a\n",
    "\n",
    "3-The product of a and b\n",
    "\n",
    "4-The quotient when a is divided by b\n",
    "\n",
    "5-The remainder when a is divided by b\n",
    "\n",
    "6-The result of log10 a\n",
    "\n",
    "7-The result of a^b"
   ]
  },
  {
   "cell_type": "code",
   "execution_count": 40,
   "id": "3b6d2b1c-dc38-4325-9743-58284fa736eb",
   "metadata": {},
   "outputs": [
    {
     "name": "stdin",
     "output_type": "stream",
     "text": [
      "enter an integer number:  4\n",
      "enter an integer number:  5\n"
     ]
    },
    {
     "name": "stdout",
     "output_type": "stream",
     "text": [
      "9 1 0.8 4 0.6020599913279624 1024 20\n"
     ]
    }
   ],
   "source": [
    "from math import log10\n",
    "a = int(input(\"enter an integer number: \"))\n",
    "b = int(input(\"enter an integer number: \"))\n",
    "c = a+b\n",
    "d = b-a\n",
    "e = a / b\n",
    "f = a % b\n",
    "g = log10(a)\n",
    "h = a**b\n",
    "i = a*b\n",
    "print(c,d,e,f,g,h,i)"
   ]
  },
  {
   "cell_type": "code",
   "execution_count": null,
   "id": "d70ec189-3b6d-4338-a66e-5eea069f7858",
   "metadata": {},
   "outputs": [],
   "source": []
  },
  {
   "cell_type": "code",
   "execution_count": null,
   "id": "0a3accf6-68fd-4c62-8b12-70eb0454f86d",
   "metadata": {},
   "outputs": [],
   "source": []
  },
  {
   "cell_type": "code",
   "execution_count": null,
   "id": "56b0dba2-96e8-4f15-9548-1c02d78a15ff",
   "metadata": {},
   "outputs": [],
   "source": []
  },
  {
   "cell_type": "code",
   "execution_count": null,
   "id": "2cd47bfa-0718-4d28-8824-c75f28b10ee3",
   "metadata": {},
   "outputs": [],
   "source": []
  },
  {
   "cell_type": "code",
   "execution_count": null,
   "id": "b4e78751-d493-4560-8cad-8704f3d2be03",
   "metadata": {},
   "outputs": [],
   "source": []
  }
 ],
 "metadata": {
  "kernelspec": {
   "display_name": "Python 3 (ipykernel)",
   "language": "python",
   "name": "python3"
  },
  "language_info": {
   "codemirror_mode": {
    "name": "ipython",
    "version": 3
   },
   "file_extension": ".py",
   "mimetype": "text/x-python",
   "name": "python",
   "nbconvert_exporter": "python",
   "pygments_lexer": "ipython3",
   "version": "3.12.3"
  }
 },
 "nbformat": 4,
 "nbformat_minor": 5
}
